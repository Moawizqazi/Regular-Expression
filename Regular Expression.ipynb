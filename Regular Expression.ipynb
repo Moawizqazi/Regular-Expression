{
 "cells": [
  {
   "cell_type": "markdown",
   "id": "220d4c0b",
   "metadata": {},
   "source": [
    "# Regular Expression\n",
    "    [abc]    = a,b,c\n",
    "    [^abc]   = any character except a,b,c\n",
    "    [a-z]    = a to z\n",
    "    [A - Z] = A to Z\n",
    "    [a-z A- Z] = a to z,A to Z\n",
    "    [0-9]  =  0 to 9\n",
    "    [ ]?  =  occur 0 or 1 times\n",
    "    [ ]+  =  occur 1 or more times\n",
    "    [ ]*   =  occur 0 or more times\n",
    "    [ ]{n}  =  occur n times\n",
    "    [ ]{n,} =  occur n or more  times\n",
    "    [ ]{y,z} =  occur at least  time but less than z times\n",
    "    \\d   = [0 - 9]\n",
    "    \\D   = [^0 - 9]\n",
    "    \\w   = [a-z,A-Z,0-9]\n",
    "    \\W   = [^\\w]\n",
    "    \n",
    "    \\ (back slash tells computer to treat following characters as search character for e.g \"+\" \".\" \"-\")"
   ]
  },
  {
   "cell_type": "markdown",
   "id": "050e8677",
   "metadata": {},
   "source": [
    "## Mobile no.start with 8 or 9 and total digit =10"
   ]
  },
  {
   "cell_type": "code",
   "execution_count": null,
   "id": "3738cb17",
   "metadata": {},
   "outputs": [],
   "source": [
    "[8,9][0-9]{9}"
   ]
  },
  {
   "cell_type": "markdown",
   "id": "37a6012f",
   "metadata": {},
   "source": [
    "## First Character in upper case,contain lower case alphbet only one digit allow in between"
   ]
  },
  {
   "cell_type": "code",
   "execution_count": null,
   "id": "2c38176e",
   "metadata": {},
   "outputs": [],
   "source": [
    "[A-Z][a-z]*[0-9][a-z]*"
   ]
  },
  {
   "cell_type": "markdown",
   "id": "0054725c",
   "metadata": {},
   "source": [
    "## Email ID For e.g (Qazi123@gmail.com) or (qazi123@gmail.com) or (qazi123,-.+@gmail.com)"
   ]
  },
  {
   "cell_type": "code",
   "execution_count": null,
   "id": "6c6d031d",
   "metadata": {},
   "outputs": [],
   "source": [
    "[a-z A-Z 0-9 _ \\- \\. ]+[@][a-z]+[\\.][a-z]{2,3}"
   ]
  },
  {
   "cell_type": "code",
   "execution_count": null,
   "id": "3f34cf93",
   "metadata": {},
   "outputs": [],
   "source": []
  }
 ],
 "metadata": {
  "kernelspec": {
   "display_name": "Python 3 (ipykernel)",
   "language": "python",
   "name": "python3"
  },
  "language_info": {
   "codemirror_mode": {
    "name": "ipython",
    "version": 3
   },
   "file_extension": ".py",
   "mimetype": "text/x-python",
   "name": "python",
   "nbconvert_exporter": "python",
   "pygments_lexer": "ipython3",
   "version": "3.9.12"
  }
 },
 "nbformat": 4,
 "nbformat_minor": 5
}
